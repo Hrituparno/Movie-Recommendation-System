{
  "nbformat": 4,
  "nbformat_minor": 0,
  "metadata": {
    "colab": {
      "provenance": []
    },
    "kernelspec": {
      "name": "python3",
      "display_name": "Python 3"
    },
    "language_info": {
      "name": "python"
    }
  },
  "cells": [
    {
      "cell_type": "markdown",
      "source": [
        "# **Movie Recommendation System**"
      ],
      "metadata": {
        "id": "-9U6S_7XSUlE"
      }
    },
    {
      "cell_type": "markdown",
      "source": [
        "## ***Import Library***"
      ],
      "metadata": {
        "id": "Zt1biHbzTUNP"
      }
    },
    {
      "cell_type": "code",
      "execution_count": 1,
      "metadata": {
        "id": "uJlFkdZM0ec-"
      },
      "outputs": [],
      "source": [
        "import pandas as pd\n",
        "import numpy as np\n",
        "from sklearn.feature_extraction.text import TfidfVectorizer\n",
        "from sklearn.metrics.pairwise import cosine_similarity\n",
        "from sklearn.preprocessing import MinMaxScaler\n",
        "import re"
      ]
    },
    {
      "cell_type": "markdown",
      "source": [
        "## ***Load Data***"
      ],
      "metadata": {
        "id": "R5izDLJGUUuo"
      }
    },
    {
      "cell_type": "code",
      "source": [
        "df1 = pd.read_csv(\"/content/drive/MyDrive/movies.csv\")\n",
        "df2 = pd.read_csv(\"/content/drive/MyDrive/ratings.csv\")"
      ],
      "metadata": {
        "id": "ZBUex3CR2X8Z"
      },
      "execution_count": 5,
      "outputs": []
    },
    {
      "cell_type": "markdown",
      "source": [
        "#***Data Preproccessing***"
      ],
      "metadata": {
        "id": "46TnTaiyVVwQ"
      }
    },
    {
      "cell_type": "markdown",
      "source": [
        "### ***Clean Title***"
      ],
      "metadata": {
        "id": "PYHY5QyIU6iK"
      }
    },
    {
      "cell_type": "code",
      "source": [
        "def clean_title(title):\n",
        "    return re.sub(\"[^a-zA-Z0-9 ]\", \"\", title)\n",
        "\n",
        "df1['genres_list'] = df1['genres'].str.replace('|', ' ')\n",
        "df1['clean_title'] = df1['title'].apply(clean_title)\n",
        "movies_data = df1[['movieId', 'clean_title', 'genres_list']]"
      ],
      "metadata": {
        "id": "6W17btqMDXhs"
      },
      "execution_count": 6,
      "outputs": []
    },
    {
      "cell_type": "markdown",
      "source": [
        "### ***Merge DataFrames***"
      ],
      "metadata": {
        "id": "PUMxd2U6VMqi"
      }
    },
    {
      "cell_type": "code",
      "source": [
        "ratings_data = df2.drop(['timestamp'], axis=1)\n",
        "combined_data = ratings_data.merge(movies_data, on='movieId')"
      ],
      "metadata": {
        "id": "V-sCvkwB2bgv"
      },
      "execution_count": 7,
      "outputs": []
    },
    {
      "cell_type": "markdown",
      "source": [
        "### ***TF-IDF Vectorizer for Titles***"
      ],
      "metadata": {
        "id": "xR_wroMGVyOC"
      }
    },
    {
      "cell_type": "code",
      "source": [
        "vectorizer_title = TfidfVectorizer(ngram_range=(1, 2))\n",
        "tfidf_title = vectorizer_title.fit_transform(movies_data['clean_title'])"
      ],
      "metadata": {
        "id": "6cmFfYMMFV1i"
      },
      "execution_count": 8,
      "outputs": []
    },
    {
      "cell_type": "markdown",
      "source": [
        "### ***TF-IDF Vectorizer for Genres***"
      ],
      "metadata": {
        "id": "0QsUzPW-V5Ax"
      }
    },
    {
      "cell_type": "code",
      "source": [
        "vectorizer_genres = TfidfVectorizer(ngram_range=(1, 2))\n",
        "tfidf_genres = vectorizer_genres.fit_transform(movies_data['genres_list'])"
      ],
      "metadata": {
        "id": "14t9pv8kFaEy"
      },
      "execution_count": 9,
      "outputs": []
    },
    {
      "cell_type": "markdown",
      "source": [
        "# ***Search Function for Titles***"
      ],
      "metadata": {
        "id": "kOTjkXA6WCrL"
      }
    },
    {
      "cell_type": "code",
      "source": [
        "def search_by_title(title):\n",
        "    title = clean_title(title)\n",
        "    query_vec = vectorizer_title.transform([title])\n",
        "    similarity = cosine_similarity(query_vec, tfidf_title).flatten()\n",
        "    indices = np.argpartition(similarity, -5)[-5:]\n",
        "    results = movies_data.iloc[indices][::-1]\n",
        "    return results"
      ],
      "metadata": {
        "id": "pYMIwvRZFdpk"
      },
      "execution_count": 10,
      "outputs": []
    },
    {
      "cell_type": "markdown",
      "source": [
        "# ***Search Function for Similar Genres***"
      ],
      "metadata": {
        "id": "gF-6N4sAWI1s"
      }
    },
    {
      "cell_type": "code",
      "source": [
        "def search_similar_genres(genres):\n",
        "    query_vec = vectorizer_genres.transform([genres])\n",
        "    similarity = cosine_similarity(query_vec, tfidf_genres).flatten()\n",
        "    indices = np.argpartition(similarity, -10)[-10:]\n",
        "    results = movies_data.iloc[indices][::-1]\n",
        "    return results"
      ],
      "metadata": {
        "id": "wW2KTkdYFgwe"
      },
      "execution_count": 11,
      "outputs": []
    },
    {
      "cell_type": "markdown",
      "source": [
        "# ***Scoring System***"
      ],
      "metadata": {
        "id": "UHPXNDiLWP6M"
      }
    },
    {
      "cell_type": "code",
      "source": [
        "def scores_calculator(movie_id):\n",
        "    similar_users = combined_data[(combined_data['movieId'] == movie_id) & (combined_data['rating'] >= 4)]['userId'].unique()\n",
        "    similar_user_recs = combined_data[(combined_data['userId'].isin(similar_users)) & (combined_data['rating'] >= 4)]['movieId']\n",
        "    similar_user_recs = similar_user_recs.value_counts() / len(similar_users)\n",
        "\n",
        "    all_users = combined_data[(combined_data['movieId'].isin(similar_user_recs.index)) & (combined_data['rating'] >= 4)]\n",
        "    all_users_recs = all_users['movieId'].value_counts() / all_users['userId'].nunique()\n",
        "\n",
        "    genres_of_selected_movie = combined_data[combined_data['movieId'] == movie_id]['genres_list'].unique()\n",
        "    genres_of_selected_movie = np.array2string(genres_of_selected_movie)\n",
        "    movies_with_similar_genres = search_similar_genres(genres_of_selected_movie)\n",
        "\n",
        "    indices = []\n",
        "    for index in movies_with_similar_genres[(movies_with_similar_genres['movieId'].isin(similar_user_recs.index))]['movieId']:\n",
        "        indices.append(index)\n",
        "\n",
        "    similar_user_recs.loc[indices] = similar_user_recs.loc[indices] * 1.5\n",
        "\n",
        "    indices = []\n",
        "    for index in movies_with_similar_genres[(movies_with_similar_genres['movieId'].isin(all_users_recs.index))]['movieId']:\n",
        "        indices.append(index)\n",
        "    all_users_recs.loc[indices] = all_users_recs.loc[indices] * 0.9\n",
        "\n",
        "    rec_percentages = pd.concat([similar_user_recs, all_users_recs], axis=1)\n",
        "    rec_percentages.columns = ['similar', 'all']\n",
        "    rec_percentages['score'] = rec_percentages['similar'] / rec_percentages['all']\n",
        "\n",
        "    rec_percentages = rec_percentages.sort_values('score', ascending=False)\n",
        "    return rec_percentages"
      ],
      "metadata": {
        "id": "LVD5UojyFjhX"
      },
      "execution_count": 12,
      "outputs": []
    },
    {
      "cell_type": "markdown",
      "source": [
        "# ***Recommendation System Function***"
      ],
      "metadata": {
        "id": "KhEYcJyRWVx9"
      }
    },
    {
      "cell_type": "code",
      "source": [
        "def recommendation_results(user_input, title=0):\n",
        "    title_candidates = search_by_title(user_input)\n",
        "    movie_id = title_candidates.iloc[title]['movieId']\n",
        "    scores = scores_calculator(movie_id)\n",
        "    results = scores.head(10).merge(movies_data, left_index=True, right_on='movieId')[['clean_title', 'score', 'genres_list']]\n",
        "    results.rename(columns={'clean_title': 'title', 'genres_list': 'genres'}, inplace=True)\n",
        "    return results\n"
      ],
      "metadata": {
        "id": "zvGAXB1EGAX3"
      },
      "execution_count": 13,
      "outputs": []
    },
    {
      "cell_type": "markdown",
      "source": [
        "# ***Result***"
      ],
      "metadata": {
        "id": "IS7LEmeDWam5"
      }
    },
    {
      "cell_type": "code",
      "source": [
        "def display_search_results(results):\n",
        "    print(\"\\n\" + \"=\"*70)\n",
        "    print(\" 🎬  SEARCH RESULTS  🎬 \".center(70, '='))\n",
        "    print(\"=\"*70)\n",
        "\n",
        "    for i, row in results.iterrows():\n",
        "        print(f\"🔎 {i+1}. {row['clean_title']}\")\n",
        "        print(f\"   📚 Genres: {row['genres_list']}\")\n",
        "        print(\"—\" * 70)\n",
        "\n",
        "    print(\"=\"*70)\n",
        "\n",
        "def display_recommendation_results(recommendations):\n",
        "    print(\"\\n\" + \"=\"*70)\n",
        "    print(\" 🌟  RECOMMENDATION RESULTS  🌟 \".center(70, '='))\n",
        "    print(\"=\"*70)\n",
        "\n",
        "    for i, row in recommendations.iterrows():\n",
        "        print(f\"🎥 {i+1}. {row['title']}\")\n",
        "        print(f\"   📚 Genres: {row['genres']}\")\n",
        "        print(f\"   ⭐ Score: {row['score']:.4f}\\n\")\n",
        "        print(\"—\" * 70)\n",
        "\n",
        "    print(\"=\"*70)\n",
        "\n",
        "# Example Usage\n",
        "user_input = \"Toy Story\"\n",
        "search_results = search_by_title(user_input)\n",
        "recommendations = recommendation_results(user_input)\n",
        "\n",
        "display_search_results(search_results)\n",
        "display_recommendation_results(recommendations)\n"
      ],
      "metadata": {
        "colab": {
          "base_uri": "https://localhost:8080/"
        },
        "id": "gH51yE4dSK2B",
        "outputId": "a6419188-5fb6-461c-fdd3-0c133bab61d9"
      },
      "execution_count": 19,
      "outputs": [
        {
          "output_type": "stream",
          "name": "stdout",
          "text": [
            "\n",
            "======================================================================\n",
            "======================== 🎬  SEARCH RESULTS  🎬 ========================\n",
            "======================================================================\n",
            "🔎 3022. Toy Story 2 1999\n",
            "   📚 Genres: Adventure Animation Children Comedy Fantasy\n",
            "——————————————————————————————————————————————————————————————————————\n",
            "🔎 14814. Toy Story 3 2010\n",
            "   📚 Genres: Adventure Animation Children Comedy Fantasy IMAX\n",
            "——————————————————————————————————————————————————————————————————————\n",
            "🔎 1. Toy Story 1995\n",
            "   📚 Genres: Adventure Animation Children Comedy Fantasy\n",
            "——————————————————————————————————————————————————————————————————————\n",
            "🔎 59768. Toy Story 4 2019\n",
            "   📚 Genres: Adventure Animation Children Comedy\n",
            "——————————————————————————————————————————————————————————————————————\n",
            "🔎 20498. Toy Story of Terror 2013\n",
            "   📚 Genres: Animation Children Comedy\n",
            "——————————————————————————————————————————————————————————————————————\n",
            "======================================================================\n",
            "\n",
            "======================================================================\n",
            "==================== 🌟  RECOMMENDATION RESULTS  🌟 ====================\n",
            "======================================================================\n",
            "🎥 22634. Toy Story Toons Hawaiian Vacation 2011\n",
            "   📚 Genres: Adventure Animation Children Comedy Fantasy\n",
            "   ⭐ Score: 15.4554\n",
            "\n",
            "——————————————————————————————————————————————————————————————————————\n",
            "🎥 22635. Toy Story Toons Small Fry 2011\n",
            "   📚 Genres: Adventure Animation Children Comedy Fantasy\n",
            "   ⭐ Score: 14.0431\n",
            "\n",
            "——————————————————————————————————————————————————————————————————————\n",
            "🎥 22287. Aladdin 1992\n",
            "   📚 Genres: Adventure Animation Children Comedy Fantasy\n",
            "   ⭐ Score: 12.3909\n",
            "\n",
            "——————————————————————————————————————————————————————————————————————\n",
            "🎥 13141. Frontrunners 2008\n",
            "   📚 Genres: Documentary\n",
            "   ⭐ Score: 9.9127\n",
            "\n",
            "——————————————————————————————————————————————————————————————————————\n",
            "🎥 7145. Hangin with the Homeboys 1991\n",
            "   📚 Genres: Comedy Drama\n",
            "   ⭐ Score: 9.9127\n",
            "\n",
            "——————————————————————————————————————————————————————————————————————\n",
            "🎥 14094. My Sister Eileen 1942\n",
            "   📚 Genres: Comedy\n",
            "   ⭐ Score: 9.9127\n",
            "\n",
            "——————————————————————————————————————————————————————————————————————\n",
            "🎥 51130. One last afternoon 2016\n",
            "   📚 Genres: Drama\n",
            "   ⭐ Score: 9.9127\n",
            "\n",
            "——————————————————————————————————————————————————————————————————————\n",
            "🎥 53373. Happy Go Ducky 1958\n",
            "   📚 Genres: Animation Children Comedy\n",
            "   ⭐ Score: 9.9127\n",
            "\n",
            "——————————————————————————————————————————————————————————————————————\n",
            "🎥 35968. Les Maitres Du Suspense 2014\n",
            "   📚 Genres: Comedy\n",
            "   ⭐ Score: 9.9127\n",
            "\n",
            "——————————————————————————————————————————————————————————————————————\n",
            "🎥 42586. Desolate 2013\n",
            "   📚 Genres: Drama Sci-Fi\n",
            "   ⭐ Score: 9.9127\n",
            "\n",
            "——————————————————————————————————————————————————————————————————————\n",
            "======================================================================\n"
          ]
        }
      ]
    }
  ]
}